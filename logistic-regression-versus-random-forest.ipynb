{
 "cells": [
  {
   "cell_type": "code",
   "execution_count": 1,
   "id": "89c90904",
   "metadata": {
    "_cell_guid": "b1076dfc-b9ad-4769-8c92-a6c4dae69d19",
    "_uuid": "8f2839f25d086af736a60e9eeb907d3b93b6e0e5",
    "execution": {
     "iopub.execute_input": "2025-04-10T15:13:17.510464Z",
     "iopub.status.busy": "2025-04-10T15:13:17.509931Z",
     "iopub.status.idle": "2025-04-10T15:13:18.399390Z",
     "shell.execute_reply": "2025-04-10T15:13:18.398179Z"
    },
    "papermill": {
     "duration": 0.895593,
     "end_time": "2025-04-10T15:13:18.401322",
     "exception": false,
     "start_time": "2025-04-10T15:13:17.505729",
     "status": "completed"
    },
    "tags": []
   },
   "outputs": [
    {
     "name": "stdout",
     "output_type": "stream",
     "text": [
      "/kaggle/input/titanic/train.csv\n",
      "/kaggle/input/titanic/test.csv\n",
      "/kaggle/input/titanic/gender_submission.csv\n"
     ]
    }
   ],
   "source": [
    "# This Python 3 environment comes with many helpful analytics libraries installed\n",
    "# It is defined by the kaggle/python Docker image: https://github.com/kaggle/docker-python\n",
    "# For example, here's several helpful packages to load\n",
    "\n",
    "import numpy as np # linear algebra\n",
    "import pandas as pd # data processing, CSV file I/O (e.g. pd.read_csv)\n",
    "\n",
    "# Input data files are available in the read-only \"../input/\" directory\n",
    "# For example, running this (by clicking run or pressing Shift+Enter) will list all files under the input directory\n",
    "\n",
    "import os\n",
    "for dirname, _, filenames in os.walk('/kaggle/input'):\n",
    "    for filename in filenames:\n",
    "        print(os.path.join(dirname, filename))\n",
    "\n",
    "# You can write up to 20GB to the current directory (/kaggle/working/) that gets preserved as output when you create a version using \"Save & Run All\" \n",
    "# You can also write temporary files to /kaggle/temp/, but they won't be saved outside of the current session"
   ]
  },
  {
   "cell_type": "code",
   "execution_count": 2,
   "id": "4a214b3b",
   "metadata": {
    "execution": {
     "iopub.execute_input": "2025-04-10T15:13:18.408214Z",
     "iopub.status.busy": "2025-04-10T15:13:18.407734Z",
     "iopub.status.idle": "2025-04-10T15:13:18.435742Z",
     "shell.execute_reply": "2025-04-10T15:13:18.434557Z"
    },
    "papermill": {
     "duration": 0.033222,
     "end_time": "2025-04-10T15:13:18.437570",
     "exception": false,
     "start_time": "2025-04-10T15:13:18.404348",
     "status": "completed"
    },
    "tags": []
   },
   "outputs": [],
   "source": [
    "train_data =pd.read_csv(\"/kaggle/input/titanic/train.csv\")\n",
    "test_data = pd.read_csv(\"/kaggle/input/titanic/test.csv\")"
   ]
  },
  {
   "cell_type": "markdown",
   "id": "0cdfdad0",
   "metadata": {
    "papermill": {
     "duration": 0.00223,
     "end_time": "2025-04-10T15:13:18.442436",
     "exception": false,
     "start_time": "2025-04-10T15:13:18.440206",
     "status": "completed"
    },
    "tags": []
   },
   "source": [
    "First we can use the RandomForest model: "
   ]
  },
  {
   "cell_type": "code",
   "execution_count": 3,
   "id": "ee8f1398",
   "metadata": {
    "execution": {
     "iopub.execute_input": "2025-04-10T15:13:18.448370Z",
     "iopub.status.busy": "2025-04-10T15:13:18.448023Z",
     "iopub.status.idle": "2025-04-10T15:13:20.492777Z",
     "shell.execute_reply": "2025-04-10T15:13:20.491554Z"
    },
    "papermill": {
     "duration": 2.049892,
     "end_time": "2025-04-10T15:13:20.494717",
     "exception": false,
     "start_time": "2025-04-10T15:13:18.444825",
     "status": "completed"
    },
    "tags": []
   },
   "outputs": [
    {
     "name": "stdout",
     "output_type": "stream",
     "text": [
      "Accuracy: 75.98%\n",
      "Your submission was successfully saved!\n"
     ]
    }
   ],
   "source": [
    "from sklearn.ensemble import RandomForestClassifier\n",
    "from sklearn.metrics import accuracy_score\n",
    "from sklearn.model_selection import train_test_split\n",
    "import pandas as pd\n",
    "\n",
    "y = train_data[\"Survived\"]\n",
    "features = [\"Pclass\", \"Sex\", \"SibSp\", \"Parch\"]\n",
    "\n",
    "\n",
    "X = pd.get_dummies(train_data[features])\n",
    "X_test = pd.get_dummies(test_data[features])\n",
    "\n",
    "# Splitting the training data into training and validation sets-> to calculate the accuracy\n",
    "X_train, X_val, y_train, y_val = train_test_split(X, y, test_size=0.2, random_state=1)\n",
    "\n",
    "model = RandomForestClassifier(n_estimators=100, max_depth=5, random_state=1)\n",
    "model.fit(X_train, y_train)\n",
    "\n",
    "predictions = model.predict(X_val)\n",
    "\n",
    "accuracy = accuracy_score(y_val, predictions)\n",
    "\n",
    "print(f\"Accuracy: {accuracy * 100:.2f}%\")\n",
    "\n",
    "# Make predictions on the test data for submission\n",
    "test_predictions = model.predict(X_test)\n",
    "\n",
    "# Prepare the output in the required format and save it to a CSV file\n",
    "output = pd.DataFrame({'PassengerId': test_data.PassengerId, 'Survived': test_predictions})\n",
    "output.to_csv('randomforest_output.csv', index=False)\n",
    "print(\"Your submission was successfully saved!\")\n"
   ]
  },
  {
   "cell_type": "markdown",
   "id": "2f0e6241",
   "metadata": {
    "papermill": {
     "duration": 0.002354,
     "end_time": "2025-04-10T15:13:20.499871",
     "exception": false,
     "start_time": "2025-04-10T15:13:20.497517",
     "status": "completed"
    },
    "tags": []
   },
   "source": [
    "Now, comparing this accuracy rate to the Logistic Regression model: "
   ]
  },
  {
   "cell_type": "code",
   "execution_count": 4,
   "id": "815ebc79",
   "metadata": {
    "execution": {
     "iopub.execute_input": "2025-04-10T15:13:20.506109Z",
     "iopub.status.busy": "2025-04-10T15:13:20.505779Z",
     "iopub.status.idle": "2025-04-10T15:13:20.549289Z",
     "shell.execute_reply": "2025-04-10T15:13:20.548037Z"
    },
    "papermill": {
     "duration": 0.048617,
     "end_time": "2025-04-10T15:13:20.551062",
     "exception": false,
     "start_time": "2025-04-10T15:13:20.502445",
     "status": "completed"
    },
    "tags": []
   },
   "outputs": [
    {
     "name": "stdout",
     "output_type": "stream",
     "text": [
      "Accuracy: 78.21%\n",
      "Your submission was successfully saved!\n"
     ]
    }
   ],
   "source": [
    "from sklearn.linear_model import LogisticRegression\n",
    "from sklearn.metrics import accuracy_score\n",
    "from sklearn.model_selection import train_test_split\n",
    "import pandas as pd\n",
    "\n",
    "y = train_data[\"Survived\"]\n",
    "features = [\"Pclass\", \"Sex\", \"SibSp\", \"Parch\"]\n",
    "\n",
    "\n",
    "X = pd.get_dummies(train_data[features])\n",
    "X_test = pd.get_dummies(test_data[features])\n",
    "\n",
    "X_train, X_val, y_train, y_val = train_test_split(X, y, test_size=0.2, random_state=1)\n",
    "\n",
    "#using logistic regression\n",
    "model = LogisticRegression(random_state=1)\n",
    "model.fit(X_train, y_train)\n",
    "\n",
    "# Make predictions on validation set\n",
    "predictions = model.predict(X_val)\n",
    "\n",
    "# Calculating the accuracy\n",
    "accuracy = accuracy_score(y_val, predictions)\n",
    "print(f\"Accuracy: {accuracy * 100:.2f}%\")\n",
    "\n",
    "\n",
    "test_predictions = model.predict(X_test)\n",
    "\n",
    "output = pd.DataFrame({'PassengerId': test_data.PassengerId, 'Survived': test_predictions})\n",
    "output.to_csv('regression_output.csv', index=False)\n",
    "\n",
    "print(\"Your submission was successfully saved!\")\n"
   ]
  },
  {
   "cell_type": "markdown",
   "id": "9491c0ae",
   "metadata": {
    "papermill": {
     "duration": 0.002263,
     "end_time": "2025-04-10T15:13:20.556151",
     "exception": false,
     "start_time": "2025-04-10T15:13:20.553888",
     "status": "completed"
    },
    "tags": []
   },
   "source": [
    "The logstic regression model showed a higher accuracy rate than the random forest model,by 2.3%  "
   ]
  }
 ],
 "metadata": {
  "kaggle": {
   "accelerator": "none",
   "dataSources": [
    {
     "databundleVersionId": 26502,
     "sourceId": 3136,
     "sourceType": "competition"
    }
   ],
   "dockerImageVersionId": 30918,
   "isGpuEnabled": false,
   "isInternetEnabled": true,
   "language": "python",
   "sourceType": "notebook"
  },
  "kernelspec": {
   "display_name": "Python 3",
   "language": "python",
   "name": "python3"
  },
  "language_info": {
   "codemirror_mode": {
    "name": "ipython",
    "version": 3
   },
   "file_extension": ".py",
   "mimetype": "text/x-python",
   "name": "python",
   "nbconvert_exporter": "python",
   "pygments_lexer": "ipython3",
   "version": "3.10.12"
  },
  "papermill": {
   "default_parameters": {},
   "duration": 7.00324,
   "end_time": "2025-04-10T15:13:21.177838",
   "environment_variables": {},
   "exception": null,
   "input_path": "__notebook__.ipynb",
   "output_path": "__notebook__.ipynb",
   "parameters": {},
   "start_time": "2025-04-10T15:13:14.174598",
   "version": "2.6.0"
  }
 },
 "nbformat": 4,
 "nbformat_minor": 5
}
